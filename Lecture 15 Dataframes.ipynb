{
 "cells": [
  {
   "cell_type": "code",
   "execution_count": 1,
   "metadata": {
    "collapsed": true
   },
   "outputs": [],
   "source": [
    "import numpy as np\n",
    "import pandas as pd\n",
    "from pandas import Series, DataFrame"
   ]
  },
  {
   "cell_type": "code",
   "execution_count": 3,
   "metadata": {
    "collapsed": false
   },
   "outputs": [],
   "source": [
    "nfl_frame = pd.read_clipboard()\n"
   ]
  },
  {
   "cell_type": "code",
   "execution_count": 4,
   "metadata": {
    "collapsed": false
   },
   "outputs": [
    {
     "data": {
      "text/html": [
       "<div>\n",
       "<table border=\"1\" class=\"dataframe\">\n",
       "  <thead>\n",
       "    <tr style=\"text-align: right;\">\n",
       "      <th></th>\n",
       "      <th>view talk edit</th>\n",
       "      <th>W</th>\n",
       "      <th>L</th>\n",
       "      <th>T</th>\n",
       "      <th>PCT</th>\n",
       "      <th>DIV</th>\n",
       "      <th>CONF</th>\n",
       "      <th>PF</th>\n",
       "      <th>PA</th>\n",
       "      <th>STK</th>\n",
       "    </tr>\n",
       "  </thead>\n",
       "  <tbody>\n",
       "    <tr>\n",
       "      <th>0</th>\n",
       "      <td>(2) New England Patriots</td>\n",
       "      <td>12</td>\n",
       "      <td>4</td>\n",
       "      <td>0</td>\n",
       "      <td>0.750</td>\n",
       "      <td>4–2</td>\n",
       "      <td>9–3</td>\n",
       "      <td>465</td>\n",
       "      <td>315</td>\n",
       "      <td>L2</td>\n",
       "    </tr>\n",
       "    <tr>\n",
       "      <th>1</th>\n",
       "      <td>New York Jets</td>\n",
       "      <td>10</td>\n",
       "      <td>6</td>\n",
       "      <td>0</td>\n",
       "      <td>0.625</td>\n",
       "      <td>3–3</td>\n",
       "      <td>7–5</td>\n",
       "      <td>387</td>\n",
       "      <td>314</td>\n",
       "      <td>L1</td>\n",
       "    </tr>\n",
       "    <tr>\n",
       "      <th>2</th>\n",
       "      <td>Buffalo Bills</td>\n",
       "      <td>8</td>\n",
       "      <td>8</td>\n",
       "      <td>0</td>\n",
       "      <td>0.500</td>\n",
       "      <td>4–2</td>\n",
       "      <td>7–5</td>\n",
       "      <td>379</td>\n",
       "      <td>359</td>\n",
       "      <td>W2</td>\n",
       "    </tr>\n",
       "    <tr>\n",
       "      <th>3</th>\n",
       "      <td>Miami Dolphins</td>\n",
       "      <td>6</td>\n",
       "      <td>10</td>\n",
       "      <td>0</td>\n",
       "      <td>0.375</td>\n",
       "      <td>1–5</td>\n",
       "      <td>4–8</td>\n",
       "      <td>310</td>\n",
       "      <td>389</td>\n",
       "      <td>W1</td>\n",
       "    </tr>\n",
       "  </tbody>\n",
       "</table>\n",
       "</div>"
      ],
      "text/plain": [
       "             view talk edit   W   L  T    PCT  DIV CONF   PF   PA STK\n",
       "0  (2) New England Patriots  12   4  0  0.750  4–2  9–3  465  315  L2\n",
       "1             New York Jets  10   6  0  0.625  3–3  7–5  387  314  L1\n",
       "2             Buffalo Bills   8   8  0  0.500  4–2  7–5  379  359  W2\n",
       "3            Miami Dolphins   6  10  0  0.375  1–5  4–8  310  389  W1"
      ]
     },
     "execution_count": 4,
     "metadata": {},
     "output_type": "execute_result"
    }
   ],
   "source": [
    "nfl_frame"
   ]
  },
  {
   "cell_type": "code",
   "execution_count": 5,
   "metadata": {
    "collapsed": false
   },
   "outputs": [
    {
     "data": {
      "text/plain": [
       "Index(['view talk edit', 'W', 'L', 'T', 'PCT', 'DIV', 'CONF', 'PF', 'PA',\n",
       "       'STK'],\n",
       "      dtype='object')"
      ]
     },
     "execution_count": 5,
     "metadata": {},
     "output_type": "execute_result"
    }
   ],
   "source": [
    "nfl_frame.columns"
   ]
  },
  {
   "cell_type": "code",
   "execution_count": 6,
   "metadata": {
    "collapsed": false
   },
   "outputs": [
    {
     "data": {
      "text/plain": [
       "0    12\n",
       "1    10\n",
       "2     8\n",
       "3     6\n",
       "Name: W, dtype: int64"
      ]
     },
     "execution_count": 6,
     "metadata": {},
     "output_type": "execute_result"
    }
   ],
   "source": [
    "nfl_frame['W']"
   ]
  },
  {
   "cell_type": "code",
   "execution_count": 7,
   "metadata": {
    "collapsed": false
   },
   "outputs": [
    {
     "data": {
      "text/plain": [
       "0    0.750\n",
       "1    0.625\n",
       "2    0.500\n",
       "3    0.375\n",
       "Name: PCT, dtype: float64"
      ]
     },
     "execution_count": 7,
     "metadata": {},
     "output_type": "execute_result"
    }
   ],
   "source": [
    "nfl_frame.PCT"
   ]
  },
  {
   "cell_type": "code",
   "execution_count": 10,
   "metadata": {
    "collapsed": false
   },
   "outputs": [
    {
     "data": {
      "text/html": [
       "<div>\n",
       "<table border=\"1\" class=\"dataframe\">\n",
       "  <thead>\n",
       "    <tr style=\"text-align: right;\">\n",
       "      <th></th>\n",
       "      <th>W</th>\n",
       "      <th>L</th>\n",
       "    </tr>\n",
       "  </thead>\n",
       "  <tbody>\n",
       "    <tr>\n",
       "      <th>0</th>\n",
       "      <td>12</td>\n",
       "      <td>4</td>\n",
       "    </tr>\n",
       "    <tr>\n",
       "      <th>1</th>\n",
       "      <td>10</td>\n",
       "      <td>6</td>\n",
       "    </tr>\n",
       "    <tr>\n",
       "      <th>2</th>\n",
       "      <td>8</td>\n",
       "      <td>8</td>\n",
       "    </tr>\n",
       "    <tr>\n",
       "      <th>3</th>\n",
       "      <td>6</td>\n",
       "      <td>10</td>\n",
       "    </tr>\n",
       "  </tbody>\n",
       "</table>\n",
       "</div>"
      ],
      "text/plain": [
       "    W   L\n",
       "0  12   4\n",
       "1  10   6\n",
       "2   8   8\n",
       "3   6  10"
      ]
     },
     "execution_count": 10,
     "metadata": {},
     "output_type": "execute_result"
    }
   ],
   "source": [
    "\n",
    "nfl_frame[['W','L']]"
   ]
  },
  {
   "cell_type": "code",
   "execution_count": 11,
   "metadata": {
    "collapsed": false
   },
   "outputs": [
    {
     "data": {
      "text/html": [
       "<div>\n",
       "<table border=\"1\" class=\"dataframe\">\n",
       "  <thead>\n",
       "    <tr style=\"text-align: right;\">\n",
       "      <th></th>\n",
       "      <th>W</th>\n",
       "      <th>L</th>\n",
       "    </tr>\n",
       "  </thead>\n",
       "  <tbody>\n",
       "    <tr>\n",
       "      <th>0</th>\n",
       "      <td>12</td>\n",
       "      <td>4</td>\n",
       "    </tr>\n",
       "    <tr>\n",
       "      <th>1</th>\n",
       "      <td>10</td>\n",
       "      <td>6</td>\n",
       "    </tr>\n",
       "    <tr>\n",
       "      <th>2</th>\n",
       "      <td>8</td>\n",
       "      <td>8</td>\n",
       "    </tr>\n",
       "    <tr>\n",
       "      <th>3</th>\n",
       "      <td>6</td>\n",
       "      <td>10</td>\n",
       "    </tr>\n",
       "  </tbody>\n",
       "</table>\n",
       "</div>"
      ],
      "text/plain": [
       "    W   L\n",
       "0  12   4\n",
       "1  10   6\n",
       "2   8   8\n",
       "3   6  10"
      ]
     },
     "execution_count": 11,
     "metadata": {},
     "output_type": "execute_result"
    }
   ],
   "source": [
    "DataFrame(nfl_frame, columns = ['W',\"L\"])"
   ]
  },
  {
   "cell_type": "code",
   "execution_count": 12,
   "metadata": {
    "collapsed": false
   },
   "outputs": [
    {
     "data": {
      "text/html": [
       "<div>\n",
       "<table border=\"1\" class=\"dataframe\">\n",
       "  <thead>\n",
       "    <tr style=\"text-align: right;\">\n",
       "      <th></th>\n",
       "      <th>W</th>\n",
       "      <th>L</th>\n",
       "      <th>Statiums</th>\n",
       "    </tr>\n",
       "  </thead>\n",
       "  <tbody>\n",
       "    <tr>\n",
       "      <th>0</th>\n",
       "      <td>12</td>\n",
       "      <td>4</td>\n",
       "      <td>NaN</td>\n",
       "    </tr>\n",
       "    <tr>\n",
       "      <th>1</th>\n",
       "      <td>10</td>\n",
       "      <td>6</td>\n",
       "      <td>NaN</td>\n",
       "    </tr>\n",
       "    <tr>\n",
       "      <th>2</th>\n",
       "      <td>8</td>\n",
       "      <td>8</td>\n",
       "      <td>NaN</td>\n",
       "    </tr>\n",
       "    <tr>\n",
       "      <th>3</th>\n",
       "      <td>6</td>\n",
       "      <td>10</td>\n",
       "      <td>NaN</td>\n",
       "    </tr>\n",
       "  </tbody>\n",
       "</table>\n",
       "</div>"
      ],
      "text/plain": [
       "    W   L  Statiums\n",
       "0  12   4       NaN\n",
       "1  10   6       NaN\n",
       "2   8   8       NaN\n",
       "3   6  10       NaN"
      ]
     },
     "execution_count": 12,
     "metadata": {},
     "output_type": "execute_result"
    }
   ],
   "source": [
    "DataFrame(nfl_frame, columns = ['W',\"L\",\"Statiums\"])"
   ]
  },
  {
   "cell_type": "code",
   "execution_count": 13,
   "metadata": {
    "collapsed": false
   },
   "outputs": [
    {
     "data": {
      "text/html": [
       "<div>\n",
       "<table border=\"1\" class=\"dataframe\">\n",
       "  <thead>\n",
       "    <tr style=\"text-align: right;\">\n",
       "      <th></th>\n",
       "      <th>view talk edit</th>\n",
       "      <th>W</th>\n",
       "      <th>L</th>\n",
       "      <th>T</th>\n",
       "      <th>PCT</th>\n",
       "      <th>DIV</th>\n",
       "      <th>CONF</th>\n",
       "      <th>PF</th>\n",
       "      <th>PA</th>\n",
       "      <th>STK</th>\n",
       "    </tr>\n",
       "  </thead>\n",
       "  <tbody>\n",
       "    <tr>\n",
       "      <th>0</th>\n",
       "      <td>(2) New England Patriots</td>\n",
       "      <td>12</td>\n",
       "      <td>4</td>\n",
       "      <td>0</td>\n",
       "      <td>0.750</td>\n",
       "      <td>4–2</td>\n",
       "      <td>9–3</td>\n",
       "      <td>465</td>\n",
       "      <td>315</td>\n",
       "      <td>L2</td>\n",
       "    </tr>\n",
       "    <tr>\n",
       "      <th>1</th>\n",
       "      <td>New York Jets</td>\n",
       "      <td>10</td>\n",
       "      <td>6</td>\n",
       "      <td>0</td>\n",
       "      <td>0.625</td>\n",
       "      <td>3–3</td>\n",
       "      <td>7–5</td>\n",
       "      <td>387</td>\n",
       "      <td>314</td>\n",
       "      <td>L1</td>\n",
       "    </tr>\n",
       "    <tr>\n",
       "      <th>2</th>\n",
       "      <td>Buffalo Bills</td>\n",
       "      <td>8</td>\n",
       "      <td>8</td>\n",
       "      <td>0</td>\n",
       "      <td>0.500</td>\n",
       "      <td>4–2</td>\n",
       "      <td>7–5</td>\n",
       "      <td>379</td>\n",
       "      <td>359</td>\n",
       "      <td>W2</td>\n",
       "    </tr>\n",
       "    <tr>\n",
       "      <th>3</th>\n",
       "      <td>Miami Dolphins</td>\n",
       "      <td>6</td>\n",
       "      <td>10</td>\n",
       "      <td>0</td>\n",
       "      <td>0.375</td>\n",
       "      <td>1–5</td>\n",
       "      <td>4–8</td>\n",
       "      <td>310</td>\n",
       "      <td>389</td>\n",
       "      <td>W1</td>\n",
       "    </tr>\n",
       "  </tbody>\n",
       "</table>\n",
       "</div>"
      ],
      "text/plain": [
       "             view talk edit   W   L  T    PCT  DIV CONF   PF   PA STK\n",
       "0  (2) New England Patriots  12   4  0  0.750  4–2  9–3  465  315  L2\n",
       "1             New York Jets  10   6  0  0.625  3–3  7–5  387  314  L1\n",
       "2             Buffalo Bills   8   8  0  0.500  4–2  7–5  379  359  W2\n",
       "3            Miami Dolphins   6  10  0  0.375  1–5  4–8  310  389  W1"
      ]
     },
     "execution_count": 13,
     "metadata": {},
     "output_type": "execute_result"
    }
   ],
   "source": [
    "nfl_frame.head()"
   ]
  },
  {
   "cell_type": "code",
   "execution_count": 14,
   "metadata": {
    "collapsed": false
   },
   "outputs": [
    {
     "data": {
      "text/html": [
       "<div>\n",
       "<table border=\"1\" class=\"dataframe\">\n",
       "  <thead>\n",
       "    <tr style=\"text-align: right;\">\n",
       "      <th></th>\n",
       "      <th>view talk edit</th>\n",
       "      <th>W</th>\n",
       "      <th>L</th>\n",
       "      <th>T</th>\n",
       "      <th>PCT</th>\n",
       "      <th>DIV</th>\n",
       "      <th>CONF</th>\n",
       "      <th>PF</th>\n",
       "      <th>PA</th>\n",
       "      <th>STK</th>\n",
       "    </tr>\n",
       "  </thead>\n",
       "  <tbody>\n",
       "    <tr>\n",
       "      <th>0</th>\n",
       "      <td>(2) New England Patriots</td>\n",
       "      <td>12</td>\n",
       "      <td>4</td>\n",
       "      <td>0</td>\n",
       "      <td>0.750</td>\n",
       "      <td>4–2</td>\n",
       "      <td>9–3</td>\n",
       "      <td>465</td>\n",
       "      <td>315</td>\n",
       "      <td>L2</td>\n",
       "    </tr>\n",
       "    <tr>\n",
       "      <th>1</th>\n",
       "      <td>New York Jets</td>\n",
       "      <td>10</td>\n",
       "      <td>6</td>\n",
       "      <td>0</td>\n",
       "      <td>0.625</td>\n",
       "      <td>3–3</td>\n",
       "      <td>7–5</td>\n",
       "      <td>387</td>\n",
       "      <td>314</td>\n",
       "      <td>L1</td>\n",
       "    </tr>\n",
       "  </tbody>\n",
       "</table>\n",
       "</div>"
      ],
      "text/plain": [
       "             view talk edit   W  L  T    PCT  DIV CONF   PF   PA STK\n",
       "0  (2) New England Patriots  12  4  0  0.750  4–2  9–3  465  315  L2\n",
       "1             New York Jets  10  6  0  0.625  3–3  7–5  387  314  L1"
      ]
     },
     "execution_count": 14,
     "metadata": {},
     "output_type": "execute_result"
    }
   ],
   "source": [
    "nfl_frame.head(2)"
   ]
  },
  {
   "cell_type": "code",
   "execution_count": 15,
   "metadata": {
    "collapsed": false
   },
   "outputs": [
    {
     "data": {
      "text/html": [
       "<div>\n",
       "<table border=\"1\" class=\"dataframe\">\n",
       "  <thead>\n",
       "    <tr style=\"text-align: right;\">\n",
       "      <th></th>\n",
       "      <th>view talk edit</th>\n",
       "      <th>W</th>\n",
       "      <th>L</th>\n",
       "      <th>T</th>\n",
       "      <th>PCT</th>\n",
       "      <th>DIV</th>\n",
       "      <th>CONF</th>\n",
       "      <th>PF</th>\n",
       "      <th>PA</th>\n",
       "      <th>STK</th>\n",
       "    </tr>\n",
       "  </thead>\n",
       "  <tbody>\n",
       "    <tr>\n",
       "      <th>3</th>\n",
       "      <td>Miami Dolphins</td>\n",
       "      <td>6</td>\n",
       "      <td>10</td>\n",
       "      <td>0</td>\n",
       "      <td>0.375</td>\n",
       "      <td>1–5</td>\n",
       "      <td>4–8</td>\n",
       "      <td>310</td>\n",
       "      <td>389</td>\n",
       "      <td>W1</td>\n",
       "    </tr>\n",
       "  </tbody>\n",
       "</table>\n",
       "</div>"
      ],
      "text/plain": [
       "   view talk edit  W   L  T    PCT  DIV CONF   PF   PA STK\n",
       "3  Miami Dolphins  6  10  0  0.375  1–5  4–8  310  389  W1"
      ]
     },
     "execution_count": 15,
     "metadata": {},
     "output_type": "execute_result"
    }
   ],
   "source": [
    "nfl_frame.tail(1)"
   ]
  },
  {
   "cell_type": "code",
   "execution_count": 16,
   "metadata": {
    "collapsed": false
   },
   "outputs": [
    {
     "data": {
      "text/plain": [
       "<pandas.core.indexing._IXIndexer at 0x1127333c8>"
      ]
     },
     "execution_count": 16,
     "metadata": {},
     "output_type": "execute_result"
    }
   ],
   "source": [
    "nfl_frame.ix(3)"
   ]
  },
  {
   "cell_type": "code",
   "execution_count": 18,
   "metadata": {
    "collapsed": false
   },
   "outputs": [
    {
     "data": {
      "text/plain": [
       "view talk edit    Miami Dolphins\n",
       "W                              6\n",
       "L                             10\n",
       "T                              0\n",
       "PCT                        0.375\n",
       "DIV                          1–5\n",
       "CONF                         4–8\n",
       "PF                           310\n",
       "PA                           389\n",
       "STK                           W1\n",
       "Name: 3, dtype: object"
      ]
     },
     "execution_count": 18,
     "metadata": {},
     "output_type": "execute_result"
    }
   ],
   "source": [
    "nfl_frame.ix[3]"
   ]
  },
  {
   "cell_type": "code",
   "execution_count": 19,
   "metadata": {
    "collapsed": true
   },
   "outputs": [],
   "source": [
    "nfl_frame['Stadium'] = \"Levis Statium\""
   ]
  },
  {
   "cell_type": "code",
   "execution_count": 21,
   "metadata": {
    "collapsed": false
   },
   "outputs": [
    {
     "data": {
      "text/html": [
       "<div>\n",
       "<table border=\"1\" class=\"dataframe\">\n",
       "  <thead>\n",
       "    <tr style=\"text-align: right;\">\n",
       "      <th></th>\n",
       "      <th>view talk edit</th>\n",
       "      <th>W</th>\n",
       "      <th>L</th>\n",
       "      <th>T</th>\n",
       "      <th>PCT</th>\n",
       "      <th>DIV</th>\n",
       "      <th>CONF</th>\n",
       "      <th>PF</th>\n",
       "      <th>PA</th>\n",
       "      <th>STK</th>\n",
       "      <th>Stadium</th>\n",
       "    </tr>\n",
       "  </thead>\n",
       "  <tbody>\n",
       "    <tr>\n",
       "      <th>0</th>\n",
       "      <td>(2) New England Patriots</td>\n",
       "      <td>12</td>\n",
       "      <td>4</td>\n",
       "      <td>0</td>\n",
       "      <td>0.750</td>\n",
       "      <td>4–2</td>\n",
       "      <td>9–3</td>\n",
       "      <td>465</td>\n",
       "      <td>315</td>\n",
       "      <td>L2</td>\n",
       "      <td>Levis Statium</td>\n",
       "    </tr>\n",
       "    <tr>\n",
       "      <th>1</th>\n",
       "      <td>New York Jets</td>\n",
       "      <td>10</td>\n",
       "      <td>6</td>\n",
       "      <td>0</td>\n",
       "      <td>0.625</td>\n",
       "      <td>3–3</td>\n",
       "      <td>7–5</td>\n",
       "      <td>387</td>\n",
       "      <td>314</td>\n",
       "      <td>L1</td>\n",
       "      <td>Levis Statium</td>\n",
       "    </tr>\n",
       "    <tr>\n",
       "      <th>2</th>\n",
       "      <td>Buffalo Bills</td>\n",
       "      <td>8</td>\n",
       "      <td>8</td>\n",
       "      <td>0</td>\n",
       "      <td>0.500</td>\n",
       "      <td>4–2</td>\n",
       "      <td>7–5</td>\n",
       "      <td>379</td>\n",
       "      <td>359</td>\n",
       "      <td>W2</td>\n",
       "      <td>Levis Statium</td>\n",
       "    </tr>\n",
       "    <tr>\n",
       "      <th>3</th>\n",
       "      <td>Miami Dolphins</td>\n",
       "      <td>6</td>\n",
       "      <td>10</td>\n",
       "      <td>0</td>\n",
       "      <td>0.375</td>\n",
       "      <td>1–5</td>\n",
       "      <td>4–8</td>\n",
       "      <td>310</td>\n",
       "      <td>389</td>\n",
       "      <td>W1</td>\n",
       "      <td>Levis Statium</td>\n",
       "    </tr>\n",
       "  </tbody>\n",
       "</table>\n",
       "</div>"
      ],
      "text/plain": [
       "             view talk edit   W   L  T    PCT  DIV CONF   PF   PA STK  \\\n",
       "0  (2) New England Patriots  12   4  0  0.750  4–2  9–3  465  315  L2   \n",
       "1             New York Jets  10   6  0  0.625  3–3  7–5  387  314  L1   \n",
       "2             Buffalo Bills   8   8  0  0.500  4–2  7–5  379  359  W2   \n",
       "3            Miami Dolphins   6  10  0  0.375  1–5  4–8  310  389  W1   \n",
       "\n",
       "         Stadium  \n",
       "0  Levis Statium  \n",
       "1  Levis Statium  \n",
       "2  Levis Statium  \n",
       "3  Levis Statium  "
      ]
     },
     "execution_count": 21,
     "metadata": {},
     "output_type": "execute_result"
    }
   ],
   "source": [
    "nfl_frame"
   ]
  },
  {
   "cell_type": "code",
   "execution_count": 22,
   "metadata": {
    "collapsed": true
   },
   "outputs": [],
   "source": [
    "nfl_frame['Stadiium'] = np.arange(4)\n"
   ]
  },
  {
   "cell_type": "code",
   "execution_count": 23,
   "metadata": {
    "collapsed": false
   },
   "outputs": [
    {
     "data": {
      "text/html": [
       "<div>\n",
       "<table border=\"1\" class=\"dataframe\">\n",
       "  <thead>\n",
       "    <tr style=\"text-align: right;\">\n",
       "      <th></th>\n",
       "      <th>view talk edit</th>\n",
       "      <th>W</th>\n",
       "      <th>L</th>\n",
       "      <th>T</th>\n",
       "      <th>PCT</th>\n",
       "      <th>DIV</th>\n",
       "      <th>CONF</th>\n",
       "      <th>PF</th>\n",
       "      <th>PA</th>\n",
       "      <th>STK</th>\n",
       "      <th>Stadium</th>\n",
       "      <th>Stadiium</th>\n",
       "    </tr>\n",
       "  </thead>\n",
       "  <tbody>\n",
       "    <tr>\n",
       "      <th>0</th>\n",
       "      <td>(2) New England Patriots</td>\n",
       "      <td>12</td>\n",
       "      <td>4</td>\n",
       "      <td>0</td>\n",
       "      <td>0.750</td>\n",
       "      <td>4–2</td>\n",
       "      <td>9–3</td>\n",
       "      <td>465</td>\n",
       "      <td>315</td>\n",
       "      <td>L2</td>\n",
       "      <td>Levis Statium</td>\n",
       "      <td>0</td>\n",
       "    </tr>\n",
       "    <tr>\n",
       "      <th>1</th>\n",
       "      <td>New York Jets</td>\n",
       "      <td>10</td>\n",
       "      <td>6</td>\n",
       "      <td>0</td>\n",
       "      <td>0.625</td>\n",
       "      <td>3–3</td>\n",
       "      <td>7–5</td>\n",
       "      <td>387</td>\n",
       "      <td>314</td>\n",
       "      <td>L1</td>\n",
       "      <td>Levis Statium</td>\n",
       "      <td>1</td>\n",
       "    </tr>\n",
       "    <tr>\n",
       "      <th>2</th>\n",
       "      <td>Buffalo Bills</td>\n",
       "      <td>8</td>\n",
       "      <td>8</td>\n",
       "      <td>0</td>\n",
       "      <td>0.500</td>\n",
       "      <td>4–2</td>\n",
       "      <td>7–5</td>\n",
       "      <td>379</td>\n",
       "      <td>359</td>\n",
       "      <td>W2</td>\n",
       "      <td>Levis Statium</td>\n",
       "      <td>2</td>\n",
       "    </tr>\n",
       "    <tr>\n",
       "      <th>3</th>\n",
       "      <td>Miami Dolphins</td>\n",
       "      <td>6</td>\n",
       "      <td>10</td>\n",
       "      <td>0</td>\n",
       "      <td>0.375</td>\n",
       "      <td>1–5</td>\n",
       "      <td>4–8</td>\n",
       "      <td>310</td>\n",
       "      <td>389</td>\n",
       "      <td>W1</td>\n",
       "      <td>Levis Statium</td>\n",
       "      <td>3</td>\n",
       "    </tr>\n",
       "  </tbody>\n",
       "</table>\n",
       "</div>"
      ],
      "text/plain": [
       "             view talk edit   W   L  T    PCT  DIV CONF   PF   PA STK  \\\n",
       "0  (2) New England Patriots  12   4  0  0.750  4–2  9–3  465  315  L2   \n",
       "1             New York Jets  10   6  0  0.625  3–3  7–5  387  314  L1   \n",
       "2             Buffalo Bills   8   8  0  0.500  4–2  7–5  379  359  W2   \n",
       "3            Miami Dolphins   6  10  0  0.375  1–5  4–8  310  389  W1   \n",
       "\n",
       "         Stadium  Stadiium  \n",
       "0  Levis Statium         0  \n",
       "1  Levis Statium         1  \n",
       "2  Levis Statium         2  \n",
       "3  Levis Statium         3  "
      ]
     },
     "execution_count": 23,
     "metadata": {},
     "output_type": "execute_result"
    }
   ],
   "source": [
    "nfl_frame"
   ]
  },
  {
   "cell_type": "code",
   "execution_count": 24,
   "metadata": {
    "collapsed": true
   },
   "outputs": [],
   "source": [
    "stadiums = Series([\"levis\",\"atat\"],index=[3,0])"
   ]
  },
  {
   "cell_type": "code",
   "execution_count": 26,
   "metadata": {
    "collapsed": false
   },
   "outputs": [],
   "source": [
    "nfl_frame['Stadiium'] = stadiums"
   ]
  },
  {
   "cell_type": "code",
   "execution_count": 27,
   "metadata": {
    "collapsed": false
   },
   "outputs": [
    {
     "data": {
      "text/html": [
       "<div>\n",
       "<table border=\"1\" class=\"dataframe\">\n",
       "  <thead>\n",
       "    <tr style=\"text-align: right;\">\n",
       "      <th></th>\n",
       "      <th>view talk edit</th>\n",
       "      <th>W</th>\n",
       "      <th>L</th>\n",
       "      <th>T</th>\n",
       "      <th>PCT</th>\n",
       "      <th>DIV</th>\n",
       "      <th>CONF</th>\n",
       "      <th>PF</th>\n",
       "      <th>PA</th>\n",
       "      <th>STK</th>\n",
       "      <th>Stadium</th>\n",
       "      <th>Stadiium</th>\n",
       "    </tr>\n",
       "  </thead>\n",
       "  <tbody>\n",
       "    <tr>\n",
       "      <th>0</th>\n",
       "      <td>(2) New England Patriots</td>\n",
       "      <td>12</td>\n",
       "      <td>4</td>\n",
       "      <td>0</td>\n",
       "      <td>0.750</td>\n",
       "      <td>4–2</td>\n",
       "      <td>9–3</td>\n",
       "      <td>465</td>\n",
       "      <td>315</td>\n",
       "      <td>L2</td>\n",
       "      <td>Levis Statium</td>\n",
       "      <td>atat</td>\n",
       "    </tr>\n",
       "    <tr>\n",
       "      <th>1</th>\n",
       "      <td>New York Jets</td>\n",
       "      <td>10</td>\n",
       "      <td>6</td>\n",
       "      <td>0</td>\n",
       "      <td>0.625</td>\n",
       "      <td>3–3</td>\n",
       "      <td>7–5</td>\n",
       "      <td>387</td>\n",
       "      <td>314</td>\n",
       "      <td>L1</td>\n",
       "      <td>Levis Statium</td>\n",
       "      <td>NaN</td>\n",
       "    </tr>\n",
       "    <tr>\n",
       "      <th>2</th>\n",
       "      <td>Buffalo Bills</td>\n",
       "      <td>8</td>\n",
       "      <td>8</td>\n",
       "      <td>0</td>\n",
       "      <td>0.500</td>\n",
       "      <td>4–2</td>\n",
       "      <td>7–5</td>\n",
       "      <td>379</td>\n",
       "      <td>359</td>\n",
       "      <td>W2</td>\n",
       "      <td>Levis Statium</td>\n",
       "      <td>NaN</td>\n",
       "    </tr>\n",
       "    <tr>\n",
       "      <th>3</th>\n",
       "      <td>Miami Dolphins</td>\n",
       "      <td>6</td>\n",
       "      <td>10</td>\n",
       "      <td>0</td>\n",
       "      <td>0.375</td>\n",
       "      <td>1–5</td>\n",
       "      <td>4–8</td>\n",
       "      <td>310</td>\n",
       "      <td>389</td>\n",
       "      <td>W1</td>\n",
       "      <td>Levis Statium</td>\n",
       "      <td>levis</td>\n",
       "    </tr>\n",
       "  </tbody>\n",
       "</table>\n",
       "</div>"
      ],
      "text/plain": [
       "             view talk edit   W   L  T    PCT  DIV CONF   PF   PA STK  \\\n",
       "0  (2) New England Patriots  12   4  0  0.750  4–2  9–3  465  315  L2   \n",
       "1             New York Jets  10   6  0  0.625  3–3  7–5  387  314  L1   \n",
       "2             Buffalo Bills   8   8  0  0.500  4–2  7–5  379  359  W2   \n",
       "3            Miami Dolphins   6  10  0  0.375  1–5  4–8  310  389  W1   \n",
       "\n",
       "         Stadium Stadiium  \n",
       "0  Levis Statium     atat  \n",
       "1  Levis Statium      NaN  \n",
       "2  Levis Statium      NaN  \n",
       "3  Levis Statium    levis  "
      ]
     },
     "execution_count": 27,
     "metadata": {},
     "output_type": "execute_result"
    }
   ],
   "source": [
    "nfl_frame"
   ]
  },
  {
   "cell_type": "code",
   "execution_count": 28,
   "metadata": {
    "collapsed": true
   },
   "outputs": [],
   "source": [
    "del nfl_frame['Stadiium']"
   ]
  },
  {
   "cell_type": "code",
   "execution_count": 29,
   "metadata": {
    "collapsed": false
   },
   "outputs": [
    {
     "data": {
      "text/html": [
       "<div>\n",
       "<table border=\"1\" class=\"dataframe\">\n",
       "  <thead>\n",
       "    <tr style=\"text-align: right;\">\n",
       "      <th></th>\n",
       "      <th>view talk edit</th>\n",
       "      <th>W</th>\n",
       "      <th>L</th>\n",
       "      <th>T</th>\n",
       "      <th>PCT</th>\n",
       "      <th>DIV</th>\n",
       "      <th>CONF</th>\n",
       "      <th>PF</th>\n",
       "      <th>PA</th>\n",
       "      <th>STK</th>\n",
       "      <th>Stadium</th>\n",
       "    </tr>\n",
       "  </thead>\n",
       "  <tbody>\n",
       "    <tr>\n",
       "      <th>0</th>\n",
       "      <td>(2) New England Patriots</td>\n",
       "      <td>12</td>\n",
       "      <td>4</td>\n",
       "      <td>0</td>\n",
       "      <td>0.750</td>\n",
       "      <td>4–2</td>\n",
       "      <td>9–3</td>\n",
       "      <td>465</td>\n",
       "      <td>315</td>\n",
       "      <td>L2</td>\n",
       "      <td>Levis Statium</td>\n",
       "    </tr>\n",
       "    <tr>\n",
       "      <th>1</th>\n",
       "      <td>New York Jets</td>\n",
       "      <td>10</td>\n",
       "      <td>6</td>\n",
       "      <td>0</td>\n",
       "      <td>0.625</td>\n",
       "      <td>3–3</td>\n",
       "      <td>7–5</td>\n",
       "      <td>387</td>\n",
       "      <td>314</td>\n",
       "      <td>L1</td>\n",
       "      <td>Levis Statium</td>\n",
       "    </tr>\n",
       "    <tr>\n",
       "      <th>2</th>\n",
       "      <td>Buffalo Bills</td>\n",
       "      <td>8</td>\n",
       "      <td>8</td>\n",
       "      <td>0</td>\n",
       "      <td>0.500</td>\n",
       "      <td>4–2</td>\n",
       "      <td>7–5</td>\n",
       "      <td>379</td>\n",
       "      <td>359</td>\n",
       "      <td>W2</td>\n",
       "      <td>Levis Statium</td>\n",
       "    </tr>\n",
       "    <tr>\n",
       "      <th>3</th>\n",
       "      <td>Miami Dolphins</td>\n",
       "      <td>6</td>\n",
       "      <td>10</td>\n",
       "      <td>0</td>\n",
       "      <td>0.375</td>\n",
       "      <td>1–5</td>\n",
       "      <td>4–8</td>\n",
       "      <td>310</td>\n",
       "      <td>389</td>\n",
       "      <td>W1</td>\n",
       "      <td>Levis Statium</td>\n",
       "    </tr>\n",
       "  </tbody>\n",
       "</table>\n",
       "</div>"
      ],
      "text/plain": [
       "             view talk edit   W   L  T    PCT  DIV CONF   PF   PA STK  \\\n",
       "0  (2) New England Patriots  12   4  0  0.750  4–2  9–3  465  315  L2   \n",
       "1             New York Jets  10   6  0  0.625  3–3  7–5  387  314  L1   \n",
       "2             Buffalo Bills   8   8  0  0.500  4–2  7–5  379  359  W2   \n",
       "3            Miami Dolphins   6  10  0  0.375  1–5  4–8  310  389  W1   \n",
       "\n",
       "         Stadium  \n",
       "0  Levis Statium  \n",
       "1  Levis Statium  \n",
       "2  Levis Statium  \n",
       "3  Levis Statium  "
      ]
     },
     "execution_count": 29,
     "metadata": {},
     "output_type": "execute_result"
    }
   ],
   "source": [
    "nfl_frame"
   ]
  },
  {
   "cell_type": "code",
   "execution_count": 30,
   "metadata": {
    "collapsed": true
   },
   "outputs": [],
   "source": [
    "data = {'City':['sf','la','nyc'], 'pop':[300,300,300]}"
   ]
  },
  {
   "cell_type": "code",
   "execution_count": 31,
   "metadata": {
    "collapsed": true
   },
   "outputs": [],
   "source": [
    "city_frame = DataFrame(data)"
   ]
  },
  {
   "cell_type": "code",
   "execution_count": 32,
   "metadata": {
    "collapsed": false
   },
   "outputs": [
    {
     "data": {
      "text/html": [
       "<div>\n",
       "<table border=\"1\" class=\"dataframe\">\n",
       "  <thead>\n",
       "    <tr style=\"text-align: right;\">\n",
       "      <th></th>\n",
       "      <th>City</th>\n",
       "      <th>pop</th>\n",
       "    </tr>\n",
       "  </thead>\n",
       "  <tbody>\n",
       "    <tr>\n",
       "      <th>0</th>\n",
       "      <td>sf</td>\n",
       "      <td>300</td>\n",
       "    </tr>\n",
       "    <tr>\n",
       "      <th>1</th>\n",
       "      <td>la</td>\n",
       "      <td>300</td>\n",
       "    </tr>\n",
       "    <tr>\n",
       "      <th>2</th>\n",
       "      <td>nyc</td>\n",
       "      <td>300</td>\n",
       "    </tr>\n",
       "  </tbody>\n",
       "</table>\n",
       "</div>"
      ],
      "text/plain": [
       "  City  pop\n",
       "0   sf  300\n",
       "1   la  300\n",
       "2  nyc  300"
      ]
     },
     "execution_count": 32,
     "metadata": {},
     "output_type": "execute_result"
    }
   ],
   "source": [
    "city_frame\n"
   ]
  },
  {
   "cell_type": "code",
   "execution_count": null,
   "metadata": {
    "collapsed": true
   },
   "outputs": [],
   "source": []
  }
 ],
 "metadata": {
  "kernelspec": {
   "display_name": "Python [conda root]",
   "language": "python",
   "name": "conda-root-py"
  },
  "language_info": {
   "codemirror_mode": {
    "name": "ipython",
    "version": 3
   },
   "file_extension": ".py",
   "mimetype": "text/x-python",
   "name": "python",
   "nbconvert_exporter": "python",
   "pygments_lexer": "ipython3",
   "version": "3.5.2"
  }
 },
 "nbformat": 4,
 "nbformat_minor": 1
}
